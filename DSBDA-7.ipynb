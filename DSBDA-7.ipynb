{
 "cells": [
  {
   "cell_type": "code",
   "execution_count": 1,
   "id": "787f2c20",
   "metadata": {},
   "outputs": [],
   "source": [
    "import pandas as pd\n",
    "import nltk\n",
    "import re\n",
    "from nltk.tokenize import sent_tokenize\n",
    "from nltk.tokenize import word_tokenize\n",
    "from nltk.corpus import stopwords\n",
    "from nltk.stem import PorterStemmer\n",
    "from nltk.stem import WordNetLemmatizer\n",
    "from nltk.tokenize import word_tokenize"
   ]
  },
  {
   "cell_type": "code",
   "execution_count": 8,
   "id": "64e787d4",
   "metadata": {},
   "outputs": [
    {
     "name": "stderr",
     "output_type": "stream",
     "text": [
      "[nltk_data] Error loading punkt: <urlopen error [WinError 10060] A\n",
      "[nltk_data]     connection attempt failed because the connected party\n",
      "[nltk_data]     did not properly respond after a period of time, or\n",
      "[nltk_data]     established connection failed because connected host\n",
      "[nltk_data]     has failed to respond>\n",
      "[nltk_data] Error loading stopwords: <urlopen error [WinError 10060] A\n",
      "[nltk_data]     connection attempt failed because the connected party\n",
      "[nltk_data]     did not properly respond after a period of time, or\n",
      "[nltk_data]     established connection failed because connected host\n",
      "[nltk_data]     has failed to respond>\n",
      "[nltk_data] Error loading wordnet: <urlopen error [WinError 10060] A\n",
      "[nltk_data]     connection attempt failed because the connected party\n",
      "[nltk_data]     did not properly respond after a period of time, or\n",
      "[nltk_data]     established connection failed because connected host\n",
      "[nltk_data]     has failed to respond>\n",
      "[nltk_data] Error loading averaged_perceptron_tagger: <urlopen error\n",
      "[nltk_data]     [WinError 10060] A connection attempt failed because\n",
      "[nltk_data]     the connected party did not properly respond after a\n",
      "[nltk_data]     period of time, or established connection failed\n",
      "[nltk_data]     because connected host has failed to respond>\n"
     ]
    },
    {
     "data": {
      "text/plain": [
       "False"
      ]
     },
     "execution_count": 8,
     "metadata": {},
     "output_type": "execute_result"
    }
   ],
   "source": [
    "nltk.download('punkt')\n",
    "nltk.download('stopwords')\n",
    "nltk.download('wordnet')\n",
    "nltk.download('averaged_perceptron_tagger')"
   ]
  },
  {
   "cell_type": "code",
   "execution_count": 9,
   "id": "79944fb5",
   "metadata": {},
   "outputs": [],
   "source": [
    "text = \"tokenization is the first step in text analytics. The process of breaking down a text paragraph into smaller chunks such as words or sentences is called Tokenization.\""
   ]
  },
  {
   "cell_type": "code",
   "execution_count": 12,
   "id": "e0161014",
   "metadata": {},
   "outputs": [
    {
     "name": "stdout",
     "output_type": "stream",
     "text": [
      "['tokenization is the first step in text analytics.', 'The process of breaking down a text paragraph into smaller chunks such as words or sentences is called Tokenization.']\n"
     ]
    }
   ],
   "source": [
    "from nltk.tokenize import sent_tokenize\n",
    "tokenized_text = sent_tokenize(text)\n",
    "print(tokenized_text)"
   ]
  },
  {
   "cell_type": "code",
   "execution_count": 13,
   "id": "c638324f",
   "metadata": {},
   "outputs": [
    {
     "name": "stdout",
     "output_type": "stream",
     "text": [
      "['tokenization', 'is', 'the', 'first', 'step', 'in', 'text', 'analytics', '.', 'The', 'process', 'of', 'breaking', 'down', 'a', 'text', 'paragraph', 'into', 'smaller', 'chunks', 'such', 'as', 'words', 'or', 'sentences', 'is', 'called', 'Tokenization', '.']\n"
     ]
    }
   ],
   "source": [
    "from nltk.tokenize import word_tokenize\n",
    "tokenized_word = word_tokenize(text)\n",
    "print(tokenized_word)"
   ]
  },
  {
   "cell_type": "code",
   "execution_count": 14,
   "id": "6b4142b5",
   "metadata": {},
   "outputs": [
    {
     "name": "stdout",
     "output_type": "stream",
     "text": [
      "{\"you're\", 'or', 'that', 'under', 'm', 'them', \"hasn't\", 'ma', 'all', 'for', 'your', 'more', 'any', 'being', 'doesn', 'needn', 'very', 'her', 'is', 'his', 'out', 'against', 'did', \"you'd\", 'wasn', \"didn't\", \"shan't\", 'me', 'were', 'these', 'their', 'yourselves', 'we', 'both', 'couldn', \"shouldn't\", \"haven't\", 'herself', 'ours', 'this', 'shan', 'when', 'didn', 'then', 'o', 'mightn', 'yours', 'to', \"doesn't\", 'wouldn', 'my', 'isn', \"weren't\", 'd', 'in', 'down', 'now', 'theirs', 'off', 'they', 'doing', 'through', 'each', 'what', 've', \"you'll\", \"don't\", 'does', 'who', \"it's\", 'as', 'was', 'up', 'weren', 'a', 'll', 'aren', 'why', 'here', 'by', 'into', 're', 'until', 'the', 'won', 'will', 't', 'between', 'whom', 'only', 'during', 'few', 'shouldn', 'she', 'don', 'again', 'ain', \"wouldn't\", 'him', 'with', 'other', \"won't\", 'myself', 'it', 'such', 'own', 'while', \"needn't\", \"that'll\", 'further', \"aren't\", 'before', 'above', 'after', 'mustn', \"mustn't\", \"hadn't\", 'themselves', 'once', 'should', 'been', 'be', 'hadn', \"wasn't\", 'having', 'has', 'can', 'have', 'haven', 'its', 'below', 'i', 'same', 'our', 'which', 'no', 'than', \"isn't\", 'because', 'of', 'where', 'from', 'nor', 'had', 'over', 'am', 'at', 'y', 'there', 'you', 'hers', 'are', \"couldn't\", 'how', 'those', 'an', 'on', 'but', 'some', 'and', 's', \"should've\", 'so', 'itself', 'just', 'most', 'too', 'not', 'hasn', 'if', \"mightn't\", 'ourselves', 'yourself', 'about', 'he', 'himself', 'do', \"you've\", \"she's\"}\n"
     ]
    }
   ],
   "source": [
    "from nltk.corpus import stopwords\n",
    "stop_words = set(stopwords.words('english'))\n",
    "print(stop_words)"
   ]
  },
  {
   "cell_type": "code",
   "execution_count": 18,
   "id": "892f3ba0",
   "metadata": {},
   "outputs": [
    {
     "name": "stdout",
     "output_type": "stream",
     "text": [
      "{\"you're\", 'or', 'that', 'under', 'm', 'them', \"hasn't\", 'ma', 'all', 'for', 'your', 'more', 'any', 'being', 'doesn', 'needn', 'very', 'her', 'is', 'his', 'out', 'against', 'did', \"you'd\", 'wasn', \"didn't\", \"shan't\", 'me', 'were', 'these', 'their', 'yourselves', 'we', 'both', 'couldn', \"shouldn't\", \"haven't\", 'herself', 'ours', 'this', 'shan', 'when', 'didn', 'then', 'o', 'mightn', 'yours', 'to', \"doesn't\", 'wouldn', 'my', 'isn', \"weren't\", 'd', 'in', 'down', 'now', 'theirs', 'off', 'they', 'doing', 'through', 'each', 'what', 've', \"you'll\", \"don't\", 'does', 'who', \"it's\", 'as', 'was', 'up', 'weren', 'a', 'll', 'aren', 'why', 'here', 'by', 'into', 're', 'until', 'the', 'won', 'will', 't', 'between', 'whom', 'only', 'during', 'few', 'shouldn', 'she', 'don', 'again', 'ain', \"wouldn't\", 'him', 'with', 'other', \"won't\", 'myself', 'it', 'such', 'own', 'while', \"needn't\", \"that'll\", 'further', \"aren't\", 'before', 'above', 'after', 'mustn', \"mustn't\", \"hadn't\", 'themselves', 'once', 'should', 'been', 'be', 'hadn', \"wasn't\", 'having', 'has', 'can', 'have', 'haven', 'its', 'below', 'i', 'same', 'our', 'which', 'no', 'than', \"isn't\", 'because', 'of', 'where', 'from', 'nor', 'had', 'over', 'am', 'at', 'y', 'there', 'you', 'hers', 'are', \"couldn't\", 'how', 'those', 'an', 'on', 'but', 'some', 'and', 's', \"should've\", 'so', 'itself', 'just', 'most', 'too', 'not', 'hasn', 'if', \"mightn't\", 'ourselves', 'yourself', 'about', 'he', 'himself', 'do', \"you've\", \"she's\"}\n"
     ]
    }
   ],
   "source": [
    "from nltk.corpus import stopwords\n",
    "from nltk import word_tokenize\n",
    "import re\n",
    "stop_words = set(stopwords.words('english'))\n",
    "print(stop_words)"
   ]
  },
  {
   "cell_type": "code",
   "execution_count": 19,
   "id": "70634429",
   "metadata": {},
   "outputs": [
    {
     "name": "stdout",
     "output_type": "stream",
     "text": [
      "TOkenized Sentence :  ['howtoremovewordswithnltklibraryinpyhton']\n",
      "Filtered Sentence :  ['howtoremovewordswithnltklibraryinpyhton']\n"
     ]
    }
   ],
   "source": [
    "text = 'How to remove words with NLTK library in pyhton?'\n",
    "text = re.sub('[^a-zA-Z]', '', text)\n",
    "tokens = word_tokenize(text.lower())\n",
    "filtered_text = []\n",
    "for w in tokens:\n",
    "    if w not in stop_words:\n",
    "        filtered_text.append(w)\n",
    "print(\"TOkenized Sentence : \", tokens)\n",
    "print(\"Filtered Sentence : \", filtered_text)"
   ]
  },
  {
   "cell_type": "code",
   "execution_count": 16,
   "id": "8f5058ad",
   "metadata": {},
   "outputs": [
    {
     "name": "stdout",
     "output_type": "stream",
     "text": [
      "wait\n"
     ]
    }
   ],
   "source": [
    "from nltk.stem import PorterStemmer\n",
    "e_words = [\"wait\", \"waiting\", \"waited\", \"waits\"]\n",
    "ps = PorterStemmer()\n",
    "for w in e_words:\n",
    "    rootWord = ps.stem(w)\n",
    "print(rootWord)"
   ]
  },
  {
   "cell_type": "code",
   "execution_count": 17,
   "id": "29abaf8e",
   "metadata": {},
   "outputs": [
    {
     "name": "stdout",
     "output_type": "stream",
     "text": [
      "[('The', 'DT')]\n",
      "[('pink', 'NN')]\n",
      "[('sweater', 'NN')]\n",
      "[('is', 'VBZ')]\n",
      "[('fit', 'NN')]\n",
      "[('her', 'PRP$')]\n",
      "[('perfectly', 'RB')]\n"
     ]
    }
   ],
   "source": [
    "import nltk\n",
    "from nltk.tokenize import word_tokenize\n",
    "data = \"The pink sweater is fit her perfectly\"\n",
    "words = word_tokenize(data)\n",
    "for word in words:\n",
    "    print(nltk.pos_tag([word]))"
   ]
  },
  {
   "cell_type": "code",
   "execution_count": null,
   "id": "3d0e0393",
   "metadata": {},
   "outputs": [],
   "source": []
  }
 ],
 "metadata": {
  "kernelspec": {
   "display_name": "Python 3 (ipykernel)",
   "language": "python",
   "name": "python3"
  },
  "language_info": {
   "codemirror_mode": {
    "name": "ipython",
    "version": 3
   },
   "file_extension": ".py",
   "mimetype": "text/x-python",
   "name": "python",
   "nbconvert_exporter": "python",
   "pygments_lexer": "ipython3",
   "version": "3.10.9"
  }
 },
 "nbformat": 4,
 "nbformat_minor": 5
}
